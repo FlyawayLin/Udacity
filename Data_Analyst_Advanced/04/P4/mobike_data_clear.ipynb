{
 "cells": [
  {
   "cell_type": "markdown",
   "metadata": {},
   "source": [
    "## 为了更好的分析数据、首先做如下清理工作\n",
    "\n",
    ">1. 计算每个订单的骑行持续时间：“duration” 单位为分钟\n",
    ">2. 检查某些变量在不同的记录中是否有重复\n",
    ">3. 移除部分变量、排序\n",
    ">4. 提取年、月、日、时、周"
   ]
  },
  {
   "cell_type": "code",
   "execution_count": 1,
   "metadata": {
    "collapsed": true
   },
   "outputs": [],
   "source": [
    "# 导入数据清理所需要的模块\n",
    "\n",
    "import datetime\n",
    "import pandas  as pd\n",
    "from collections import Counter"
   ]
  },
  {
   "cell_type": "code",
   "execution_count": 2,
   "metadata": {},
   "outputs": [
    {
     "name": "stdout",
     "output_type": "stream",
     "text": [
      "<class 'pandas.core.frame.DataFrame'>\n",
      "RangeIndex: 102361 entries, 0 to 102360\n",
      "Data columns (total 10 columns):\n",
      "orderid             102361 non-null int64\n",
      "bikeid              102361 non-null int64\n",
      "userid              102361 non-null int64\n",
      "start_time          102361 non-null object\n",
      "start_location_x    102361 non-null float64\n",
      "start_location_y    102361 non-null float64\n",
      "end_time            102361 non-null object\n",
      "end_location_x      102361 non-null float64\n",
      "end_location_y      102361 non-null float64\n",
      "track               102361 non-null object\n",
      "dtypes: float64(4), int64(3), object(3)\n",
      "memory usage: 7.8+ MB\n"
     ]
    },
    {
     "data": {
      "text/html": [
       "<div>\n",
       "<style>\n",
       "    .dataframe thead tr:only-child th {\n",
       "        text-align: right;\n",
       "    }\n",
       "\n",
       "    .dataframe thead th {\n",
       "        text-align: left;\n",
       "    }\n",
       "\n",
       "    .dataframe tbody tr th {\n",
       "        vertical-align: top;\n",
       "    }\n",
       "</style>\n",
       "<table border=\"1\" class=\"dataframe\">\n",
       "  <thead>\n",
       "    <tr style=\"text-align: right;\">\n",
       "      <th></th>\n",
       "      <th>orderid</th>\n",
       "      <th>bikeid</th>\n",
       "      <th>userid</th>\n",
       "      <th>start_time</th>\n",
       "      <th>start_location_x</th>\n",
       "      <th>start_location_y</th>\n",
       "      <th>end_time</th>\n",
       "      <th>end_location_x</th>\n",
       "      <th>end_location_y</th>\n",
       "      <th>track</th>\n",
       "    </tr>\n",
       "  </thead>\n",
       "  <tbody>\n",
       "    <tr>\n",
       "      <th>0</th>\n",
       "      <td>78387</td>\n",
       "      <td>158357</td>\n",
       "      <td>10080</td>\n",
       "      <td>2016-08-20 06:57</td>\n",
       "      <td>121.348</td>\n",
       "      <td>31.389</td>\n",
       "      <td>2016-08-20 07:04</td>\n",
       "      <td>121.357</td>\n",
       "      <td>31.388</td>\n",
       "      <td>121.347,31.392#121.348,31.389#121.349,31.390#1...</td>\n",
       "    </tr>\n",
       "    <tr>\n",
       "      <th>1</th>\n",
       "      <td>891333</td>\n",
       "      <td>92776</td>\n",
       "      <td>6605</td>\n",
       "      <td>2016-08-29 19:09</td>\n",
       "      <td>121.508</td>\n",
       "      <td>31.279</td>\n",
       "      <td>2016-08-29 19:31</td>\n",
       "      <td>121.489</td>\n",
       "      <td>31.271</td>\n",
       "      <td>121.489,31.270#121.489,31.271#121.490,31.270#1...</td>\n",
       "    </tr>\n",
       "  </tbody>\n",
       "</table>\n",
       "</div>"
      ],
      "text/plain": [
       "   orderid  bikeid  userid        start_time  start_location_x  \\\n",
       "0    78387  158357   10080  2016-08-20 06:57           121.348   \n",
       "1   891333   92776    6605  2016-08-29 19:09           121.508   \n",
       "\n",
       "   start_location_y          end_time  end_location_x  end_location_y  \\\n",
       "0            31.389  2016-08-20 07:04         121.357          31.388   \n",
       "1            31.279  2016-08-29 19:31         121.489          31.271   \n",
       "\n",
       "                                               track  \n",
       "0  121.347,31.392#121.348,31.389#121.349,31.390#1...  \n",
       "1  121.489,31.270#121.489,31.271#121.490,31.270#1...  "
      ]
     },
     "execution_count": 2,
     "metadata": {},
     "output_type": "execute_result"
    }
   ],
   "source": [
    "# 读取数据为 DataFrame 格式\n",
    "# 预览数据\n",
    "\n",
    "df = pd.read_csv('mobike_shanghai_sample_updated.csv')\n",
    "\n",
    "df.info() \n",
    "df.head(2)"
   ]
  },
  {
   "cell_type": "markdown",
   "metadata": {},
   "source": [
    "### 1. 计算每个订单的骑行持续时间：“duration” 单位为分钟"
   ]
  },
  {
   "cell_type": "code",
   "execution_count": 3,
   "metadata": {
    "collapsed": true
   },
   "outputs": [],
   "source": [
    "# 计算每个订单的骑行持续时间 “duration” 、单位为分钟\n",
    "# 测试发现直接在 DataFrame 格式下使用 for 循环处理计算耗时太久\n",
    "# 故对 “duration” 先用列表单独处理、然后转换成 DataFrme 再与原始数据合并\n",
    "\n",
    "duration_list = []\n",
    "start_time_only = df.start_time\n",
    "end_time_only = df.end_time\n",
    "\n",
    "for i in range(0, len(df.orderid)):\n",
    "    start = datetime.datetime.strptime(start_time_only[i], \"%Y-%m-%d %H:%M\")\n",
    "    end = datetime.datetime.strptime(end_time_only[i], \"%Y-%m-%d %H:%M\")\n",
    "    duration_seconds = (end - start).seconds\n",
    "    duration_minutes = int(duration_seconds / 60)\n",
    "    duration_list.append(duration_minutes)\n",
    "    \n",
    "duration_df = pd.DataFrame(duration_list)\n",
    "duration_df.columns = ['duration']\n",
    "df['duration'] = duration_df"
   ]
  },
  {
   "cell_type": "code",
   "execution_count": 4,
   "metadata": {},
   "outputs": [
    {
     "name": "stdout",
     "output_type": "stream",
     "text": [
      "<class 'pandas.core.frame.DataFrame'>\n",
      "RangeIndex: 102361 entries, 0 to 102360\n",
      "Data columns (total 11 columns):\n",
      "orderid             102361 non-null int64\n",
      "bikeid              102361 non-null int64\n",
      "userid              102361 non-null int64\n",
      "start_time          102361 non-null object\n",
      "start_location_x    102361 non-null float64\n",
      "start_location_y    102361 non-null float64\n",
      "end_time            102361 non-null object\n",
      "end_location_x      102361 non-null float64\n",
      "end_location_y      102361 non-null float64\n",
      "track               102361 non-null object\n",
      "duration            102361 non-null int64\n",
      "dtypes: float64(4), int64(4), object(3)\n",
      "memory usage: 8.6+ MB\n"
     ]
    },
    {
     "data": {
      "text/html": [
       "<div>\n",
       "<style>\n",
       "    .dataframe thead tr:only-child th {\n",
       "        text-align: right;\n",
       "    }\n",
       "\n",
       "    .dataframe thead th {\n",
       "        text-align: left;\n",
       "    }\n",
       "\n",
       "    .dataframe tbody tr th {\n",
       "        vertical-align: top;\n",
       "    }\n",
       "</style>\n",
       "<table border=\"1\" class=\"dataframe\">\n",
       "  <thead>\n",
       "    <tr style=\"text-align: right;\">\n",
       "      <th></th>\n",
       "      <th>orderid</th>\n",
       "      <th>bikeid</th>\n",
       "      <th>userid</th>\n",
       "      <th>start_time</th>\n",
       "      <th>start_location_x</th>\n",
       "      <th>start_location_y</th>\n",
       "      <th>end_time</th>\n",
       "      <th>end_location_x</th>\n",
       "      <th>end_location_y</th>\n",
       "      <th>track</th>\n",
       "      <th>duration</th>\n",
       "    </tr>\n",
       "  </thead>\n",
       "  <tbody>\n",
       "    <tr>\n",
       "      <th>0</th>\n",
       "      <td>78387</td>\n",
       "      <td>158357</td>\n",
       "      <td>10080</td>\n",
       "      <td>2016-08-20 06:57</td>\n",
       "      <td>121.348</td>\n",
       "      <td>31.389</td>\n",
       "      <td>2016-08-20 07:04</td>\n",
       "      <td>121.357</td>\n",
       "      <td>31.388</td>\n",
       "      <td>121.347,31.392#121.348,31.389#121.349,31.390#1...</td>\n",
       "      <td>7</td>\n",
       "    </tr>\n",
       "    <tr>\n",
       "      <th>1</th>\n",
       "      <td>891333</td>\n",
       "      <td>92776</td>\n",
       "      <td>6605</td>\n",
       "      <td>2016-08-29 19:09</td>\n",
       "      <td>121.508</td>\n",
       "      <td>31.279</td>\n",
       "      <td>2016-08-29 19:31</td>\n",
       "      <td>121.489</td>\n",
       "      <td>31.271</td>\n",
       "      <td>121.489,31.270#121.489,31.271#121.490,31.270#1...</td>\n",
       "      <td>22</td>\n",
       "    </tr>\n",
       "  </tbody>\n",
       "</table>\n",
       "</div>"
      ],
      "text/plain": [
       "   orderid  bikeid  userid        start_time  start_location_x  \\\n",
       "0    78387  158357   10080  2016-08-20 06:57           121.348   \n",
       "1   891333   92776    6605  2016-08-29 19:09           121.508   \n",
       "\n",
       "   start_location_y          end_time  end_location_x  end_location_y  \\\n",
       "0            31.389  2016-08-20 07:04         121.357          31.388   \n",
       "1            31.279  2016-08-29 19:31         121.489          31.271   \n",
       "\n",
       "                                               track  duration  \n",
       "0  121.347,31.392#121.348,31.389#121.349,31.390#1...         7  \n",
       "1  121.489,31.270#121.489,31.271#121.490,31.270#1...        22  "
      ]
     },
     "execution_count": 4,
     "metadata": {},
     "output_type": "execute_result"
    }
   ],
   "source": [
    "# 检查处理后的数据是否符合预期\n",
    "\n",
    "df.info() \n",
    "df.head(2)"
   ]
  },
  {
   "cell_type": "markdown",
   "metadata": {},
   "source": [
    "### 2. 检查某些变量在不同的记录中是否有重复"
   ]
  },
  {
   "cell_type": "code",
   "execution_count": 5,
   "metadata": {},
   "outputs": [
    {
     "name": "stdout",
     "output_type": "stream",
     "text": [
      "单车的总量：79062\n"
     ]
    }
   ],
   "source": [
    "# 单车的使用频次记录\n",
    "# 一共有多少辆不同的单车\n",
    "\n",
    "bike_duplicated_dict = Counter(df.bikeid)\n",
    "bike_duplicated_counter = bike_duplicated_dict.values()\n",
    "bike_unique_counter = len(bike_duplicated_counter)\n",
    "\n",
    "print ('单车的总量：%d' % (bike_unique_counter))"
   ]
  },
  {
   "cell_type": "code",
   "execution_count": 6,
   "metadata": {},
   "outputs": [
    {
     "name": "stdout",
     "output_type": "stream",
     "text": [
      "用户的总数：16887\n"
     ]
    }
   ],
   "source": [
    "# 用户的下单频次记录\n",
    "# 一共有多少用户\n",
    "\n",
    "user_duplicated_dict = Counter(df.userid)\n",
    "user_duplicated_counter = user_duplicated_dict.values()\n",
    "user_unique_counter = len(user_duplicated_counter)\n",
    "\n",
    "print ('用户的总数：%d' % (user_unique_counter))"
   ]
  },
  {
   "cell_type": "markdown",
   "metadata": {},
   "source": [
    "### 3. 移除部分变量、排序"
   ]
  },
  {
   "cell_type": "code",
   "execution_count": 7,
   "metadata": {
    "collapsed": true,
    "scrolled": true
   },
   "outputs": [],
   "source": [
    "# 由于轨迹点和骑行顺序不一定一致故移除 track\n",
    "# 按照订单顺序对数据排序\n",
    "\n",
    "df.drop(['track'], axis=1, inplace=True)\n",
    "\n",
    "df = df.sort_values(by=['orderid'])\n",
    "df.to_csv('mobike_data_cleared.csv', index=False)\n",
    "df = pd.read_csv('mobike_data_cleared.csv')"
   ]
  },
  {
   "cell_type": "code",
   "execution_count": 8,
   "metadata": {},
   "outputs": [
    {
     "name": "stdout",
     "output_type": "stream",
     "text": [
      "<class 'pandas.core.frame.DataFrame'>\n",
      "RangeIndex: 102361 entries, 0 to 102360\n",
      "Data columns (total 10 columns):\n",
      "orderid             102361 non-null int64\n",
      "bikeid              102361 non-null int64\n",
      "userid              102361 non-null int64\n",
      "start_time          102361 non-null object\n",
      "start_location_x    102361 non-null float64\n",
      "start_location_y    102361 non-null float64\n",
      "end_time            102361 non-null object\n",
      "end_location_x      102361 non-null float64\n",
      "end_location_y      102361 non-null float64\n",
      "duration            102361 non-null int64\n",
      "dtypes: float64(4), int64(4), object(2)\n",
      "memory usage: 7.8+ MB\n"
     ]
    },
    {
     "data": {
      "text/html": [
       "<div>\n",
       "<style>\n",
       "    .dataframe thead tr:only-child th {\n",
       "        text-align: right;\n",
       "    }\n",
       "\n",
       "    .dataframe thead th {\n",
       "        text-align: left;\n",
       "    }\n",
       "\n",
       "    .dataframe tbody tr th {\n",
       "        vertical-align: top;\n",
       "    }\n",
       "</style>\n",
       "<table border=\"1\" class=\"dataframe\">\n",
       "  <thead>\n",
       "    <tr style=\"text-align: right;\">\n",
       "      <th></th>\n",
       "      <th>orderid</th>\n",
       "      <th>bikeid</th>\n",
       "      <th>userid</th>\n",
       "      <th>start_time</th>\n",
       "      <th>start_location_x</th>\n",
       "      <th>start_location_y</th>\n",
       "      <th>end_time</th>\n",
       "      <th>end_location_x</th>\n",
       "      <th>end_location_y</th>\n",
       "      <th>duration</th>\n",
       "    </tr>\n",
       "  </thead>\n",
       "  <tbody>\n",
       "    <tr>\n",
       "      <th>0</th>\n",
       "      <td>6</td>\n",
       "      <td>288841</td>\n",
       "      <td>4427</td>\n",
       "      <td>2016-08-28 00:00</td>\n",
       "      <td>121.462</td>\n",
       "      <td>31.313</td>\n",
       "      <td>2016-08-28 00:17</td>\n",
       "      <td>121.455</td>\n",
       "      <td>31.315</td>\n",
       "      <td>17</td>\n",
       "    </tr>\n",
       "    <tr>\n",
       "      <th>1</th>\n",
       "      <td>24</td>\n",
       "      <td>53494</td>\n",
       "      <td>17056</td>\n",
       "      <td>2016-08-28 00:00</td>\n",
       "      <td>121.483</td>\n",
       "      <td>31.262</td>\n",
       "      <td>2016-08-28 00:16</td>\n",
       "      <td>121.479</td>\n",
       "      <td>31.285</td>\n",
       "      <td>16</td>\n",
       "    </tr>\n",
       "  </tbody>\n",
       "</table>\n",
       "</div>"
      ],
      "text/plain": [
       "   orderid  bikeid  userid        start_time  start_location_x  \\\n",
       "0        6  288841    4427  2016-08-28 00:00           121.462   \n",
       "1       24   53494   17056  2016-08-28 00:00           121.483   \n",
       "\n",
       "   start_location_y          end_time  end_location_x  end_location_y  \\\n",
       "0            31.313  2016-08-28 00:17         121.455          31.315   \n",
       "1            31.262  2016-08-28 00:16         121.479          31.285   \n",
       "\n",
       "   duration  \n",
       "0        17  \n",
       "1        16  "
      ]
     },
     "execution_count": 8,
     "metadata": {},
     "output_type": "execute_result"
    }
   ],
   "source": [
    "# 检查处理后的数据是否符合预期\n",
    "\n",
    "df.info() \n",
    "df.head(2)"
   ]
  },
  {
   "cell_type": "markdown",
   "metadata": {},
   "source": [
    "### 4. 提取年、月、日、时、周"
   ]
  },
  {
   "cell_type": "code",
   "execution_count": 9,
   "metadata": {
    "collapsed": true
   },
   "outputs": [],
   "source": [
    "# 从订单开始时间中提取年、月、日、时、周\n",
    "\n",
    "year_list = []\n",
    "month_list = []\n",
    "day_list = []\n",
    "hour_list = []\n",
    "weekday_list = []\n",
    "time = df.start_time\n",
    "\n",
    "for i in range(0, len(time)):\n",
    "    strptime = datetime.datetime.strptime(time[i], \"%Y-%m-%d %H:%M\")\n",
    "    \n",
    "    year_list.append(strptime.year)\n",
    "    month_list.append(strptime.month)\n",
    "    day_list.append(strptime.day)\n",
    "    hour_list.append(strptime.hour)\n",
    "    weekday_list.append(strptime.weekday() + 1)\n",
    "    \n",
    "year_df = pd.DataFrame(year_list)\n",
    "month_df = pd.DataFrame(month_list)\n",
    "day_df = pd.DataFrame(day_list)\n",
    "hour_df = pd.DataFrame(hour_list)\n",
    "weekday_df = pd.DataFrame(weekday_list)\n",
    "\n",
    "year_df.columns = ['year']\n",
    "month_df.columns = ['month']\n",
    "day_df.columns = ['day']\n",
    "hour_df.columns = ['hour']\n",
    "weekday_df.columns = ['weekday'] \n",
    "\n",
    "df['year'] = year_df\n",
    "df['month'] = month_df\n",
    "df['day'] = day_df\n",
    "df['hour'] = hour_df\n",
    "df['weekday'] = weekday_df"
   ]
  },
  {
   "cell_type": "code",
   "execution_count": 10,
   "metadata": {},
   "outputs": [
    {
     "name": "stdout",
     "output_type": "stream",
     "text": [
      "<class 'pandas.core.frame.DataFrame'>\n",
      "RangeIndex: 102361 entries, 0 to 102360\n",
      "Data columns (total 15 columns):\n",
      "orderid             102361 non-null int64\n",
      "bikeid              102361 non-null int64\n",
      "userid              102361 non-null int64\n",
      "start_time          102361 non-null object\n",
      "start_location_x    102361 non-null float64\n",
      "start_location_y    102361 non-null float64\n",
      "end_time            102361 non-null object\n",
      "end_location_x      102361 non-null float64\n",
      "end_location_y      102361 non-null float64\n",
      "duration            102361 non-null int64\n",
      "year                102361 non-null int64\n",
      "month               102361 non-null int64\n",
      "day                 102361 non-null int64\n",
      "hour                102361 non-null int64\n",
      "weekday             102361 non-null int64\n",
      "dtypes: float64(4), int64(9), object(2)\n",
      "memory usage: 11.7+ MB\n"
     ]
    },
    {
     "data": {
      "text/html": [
       "<div>\n",
       "<style>\n",
       "    .dataframe thead tr:only-child th {\n",
       "        text-align: right;\n",
       "    }\n",
       "\n",
       "    .dataframe thead th {\n",
       "        text-align: left;\n",
       "    }\n",
       "\n",
       "    .dataframe tbody tr th {\n",
       "        vertical-align: top;\n",
       "    }\n",
       "</style>\n",
       "<table border=\"1\" class=\"dataframe\">\n",
       "  <thead>\n",
       "    <tr style=\"text-align: right;\">\n",
       "      <th></th>\n",
       "      <th>orderid</th>\n",
       "      <th>bikeid</th>\n",
       "      <th>userid</th>\n",
       "      <th>start_time</th>\n",
       "      <th>start_location_x</th>\n",
       "      <th>start_location_y</th>\n",
       "      <th>end_time</th>\n",
       "      <th>end_location_x</th>\n",
       "      <th>end_location_y</th>\n",
       "      <th>duration</th>\n",
       "      <th>year</th>\n",
       "      <th>month</th>\n",
       "      <th>day</th>\n",
       "      <th>hour</th>\n",
       "      <th>weekday</th>\n",
       "    </tr>\n",
       "  </thead>\n",
       "  <tbody>\n",
       "    <tr>\n",
       "      <th>0</th>\n",
       "      <td>6</td>\n",
       "      <td>288841</td>\n",
       "      <td>4427</td>\n",
       "      <td>2016-08-28 00:00</td>\n",
       "      <td>121.462</td>\n",
       "      <td>31.313</td>\n",
       "      <td>2016-08-28 00:17</td>\n",
       "      <td>121.455</td>\n",
       "      <td>31.315</td>\n",
       "      <td>17</td>\n",
       "      <td>2016</td>\n",
       "      <td>8</td>\n",
       "      <td>28</td>\n",
       "      <td>0</td>\n",
       "      <td>7</td>\n",
       "    </tr>\n",
       "    <tr>\n",
       "      <th>1</th>\n",
       "      <td>24</td>\n",
       "      <td>53494</td>\n",
       "      <td>17056</td>\n",
       "      <td>2016-08-28 00:00</td>\n",
       "      <td>121.483</td>\n",
       "      <td>31.262</td>\n",
       "      <td>2016-08-28 00:16</td>\n",
       "      <td>121.479</td>\n",
       "      <td>31.285</td>\n",
       "      <td>16</td>\n",
       "      <td>2016</td>\n",
       "      <td>8</td>\n",
       "      <td>28</td>\n",
       "      <td>0</td>\n",
       "      <td>7</td>\n",
       "    </tr>\n",
       "  </tbody>\n",
       "</table>\n",
       "</div>"
      ],
      "text/plain": [
       "   orderid  bikeid  userid        start_time  start_location_x  \\\n",
       "0        6  288841    4427  2016-08-28 00:00           121.462   \n",
       "1       24   53494   17056  2016-08-28 00:00           121.483   \n",
       "\n",
       "   start_location_y          end_time  end_location_x  end_location_y  \\\n",
       "0            31.313  2016-08-28 00:17         121.455          31.315   \n",
       "1            31.262  2016-08-28 00:16         121.479          31.285   \n",
       "\n",
       "   duration  year  month  day  hour  weekday  \n",
       "0        17  2016      8   28     0        7  \n",
       "1        16  2016      8   28     0        7  "
      ]
     },
     "execution_count": 10,
     "metadata": {},
     "output_type": "execute_result"
    }
   ],
   "source": [
    "# 检查处理后的数据是否符合预期\n",
    "\n",
    "df.info() \n",
    "df.head(2)"
   ]
  },
  {
   "cell_type": "code",
   "execution_count": 11,
   "metadata": {
    "collapsed": true
   },
   "outputs": [],
   "source": [
    "# 暂存清理过的数据\n",
    "\n",
    "df.to_csv('mobike_data_cleared.csv', index=False)"
   ]
  },
  {
   "cell_type": "code",
   "execution_count": 12,
   "metadata": {},
   "outputs": [
    {
     "data": {
      "text/plain": [
       "(count    102361.0\n",
       " mean       2016.0\n",
       " std           0.0\n",
       " min        2016.0\n",
       " 25%        2016.0\n",
       " 50%        2016.0\n",
       " 75%        2016.0\n",
       " max        2016.0\n",
       " Name: year, dtype: float64, count    102361.0\n",
       " mean          8.0\n",
       " std           0.0\n",
       " min           8.0\n",
       " 25%           8.0\n",
       " 50%           8.0\n",
       " 75%           8.0\n",
       " max           8.0\n",
       " Name: month, dtype: float64, count    102361.000000\n",
       " mean         18.839363\n",
       " std           8.514200\n",
       " min           1.000000\n",
       " 25%          12.000000\n",
       " 50%          20.000000\n",
       " 75%          26.000000\n",
       " max          31.000000\n",
       " Name: day, dtype: float64, count    102361.000000\n",
       " mean         14.489190\n",
       " std           5.302643\n",
       " min           0.000000\n",
       " 25%          10.000000\n",
       " 50%          16.000000\n",
       " 75%          19.000000\n",
       " max          23.000000\n",
       " Name: hour, dtype: float64, count    102361.000000\n",
       " mean          3.794502\n",
       " std           1.996931\n",
       " min           1.000000\n",
       " 25%           2.000000\n",
       " 50%           4.000000\n",
       " 75%           6.000000\n",
       " max           7.000000\n",
       " Name: weekday, dtype: float64, count    102361.000000\n",
       " mean         17.026348\n",
       " std          23.436665\n",
       " min           1.000000\n",
       " 25%           7.000000\n",
       " 50%          12.000000\n",
       " 75%          20.000000\n",
       " max        1408.000000\n",
       " Name: duration, dtype: float64)"
      ]
     },
     "execution_count": 12,
     "metadata": {},
     "output_type": "execute_result"
    }
   ],
   "source": [
    "# 查看年、月、日、时间、周、单次骑行时间的分布\n",
    "\n",
    "df.year.describe(), df.month.describe(), df.day.describe(), df.hour.describe(), df.weekday.describe(), df.duration.describe()\n"
   ]
  }
 ],
 "metadata": {
  "kernelspec": {
   "display_name": "Python 3",
   "language": "python",
   "name": "python3"
  },
  "language_info": {
   "codemirror_mode": {
    "name": "ipython",
    "version": 3
   },
   "file_extension": ".py",
   "mimetype": "text/x-python",
   "name": "python",
   "nbconvert_exporter": "python",
   "pygments_lexer": "ipython3",
   "version": "3.6.1"
  }
 },
 "nbformat": 4,
 "nbformat_minor": 2
}
