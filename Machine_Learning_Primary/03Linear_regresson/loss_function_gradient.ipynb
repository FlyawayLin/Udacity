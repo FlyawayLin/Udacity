{
 "cells": [
  {
   "cell_type": "code",
   "execution_count": 3,
   "metadata": {
    "collapsed": true
   },
   "outputs": [
    {
     "data": {
      "text/latex": [
       "\n$$\n\\text{变换后的 }X^T\n$$\n\n$$\nX^T =  \\begin{bmatrix}\nx_1 & x_2 & ... & x_n\\\\\n1 & 1 & ... & 1\\\\\n\\end{bmatrix}\n$$\n\n$$ \n\\text{已知}\nY =  \\begin{bmatrix}\ny_1 \\\\\ny_2 \\\\\n... \\\\\ny_n\n\\end{bmatrix}\n,\nX =  \\begin{bmatrix}\nx_1 & 1 \\\\\nx_2 & 1\\\\\n... & ...\\\\\nx_n & 1 \\\\\n\\end{bmatrix},\nh =  \\begin{bmatrix}\nm \\\\\nb \\\\\n\\end{bmatrix}\n$$\n\n$$\n\\text{推导出 }\n$$\n\n$$\n2X^TXh - 2X^TY = -2X^T(Y-Xh)\n$$\n\n$$\nY-Xh = \\begin{bmatrix}\ny_1 - mx_1 - b \\\\\ny_2 - mx_2 - b \\\\\n... \\\\\ny_n - mx_n - b \\\\\n\\end{bmatrix}\n$$\n\n$$\n\\text{所以 }\n$$\n\n$$\n2X^TXh - 2X^TY = -2X^T\\begin{bmatrix}\ny_1 - mx_1 - b \\\\\ny_2 - mx_2 - b \\\\\n... \\\\\ny_n - mx_n - b \\\\\n\\end{bmatrix} = \\begin{bmatrix}\n\\sum_{i=1}^{n}{-2x_i(y_i - mx_i - b)} \\\\\n\\sum_{i=1}^{n}{-2(y_i - mx_i - b)}\n\\end{bmatrix}\n$$\n\n$$\n\\text{然后对定义的损失函数(E)求m、b的偏导 }\n$$\n\n\n$$\n\\frac{\\partial E}{\\partial m} = \\sum_{i=1}^{n}{2(y_i - mx_i - b)\\frac{\\partial {(y_i - mx_i - b)}}{\\partial m}}\n$$\n\n$$\n= \\sum_{i=1}^{n}{2(y_i - mx_i - b)(-x_i)}\n$$\n\n$$\n= \\sum_{i=1}^{n}{-2x_i(y_i - mx_i - b)}\n$$\n\n$$\n\\frac{\\partial E}{\\partial b} = \\sum_{i=1}^{n}{2(y_i - mx_i - b) \\frac{\\partial {(y_i - mx_i - b)}}{\\partial b}}\n$$\n\n$$\n= \\sum_{i=1}^{n}{2(y_i - mx_i - b)(-1)}\n$$\n\n$$\n= \\sum_{i=1}^{n}{-2(y_i - mx_i - b)}\n$$\n\n$$\n\\text{综上所述 }\n$$\n\n$$\n\\frac{\\partial E}{\\partial m} = \\sum_{i=1}^{n}{-2x_i(y_i - mx_i - b)}\n$$\n\n$$\n\\frac{\\partial E}{\\partial b} = \\sum_{i=1}^{n}{-2(y_i - mx_i - b)}\n$$\n\n$$\n\\begin{bmatrix}\n\\frac{\\partial E}{\\partial m} \\\\\n\\frac{\\partial E}{\\partial b} \n\\end{bmatrix} = 2X^TXh - 2X^TY\n$$"
      ],
      "text/plain": [
       "<IPython.core.display.Latex object>"
      ]
     },
     "metadata": {},
     "output_type": "display_data"
    }
   ],
   "source": [
    "%%latex\n",
    "\n",
    "$$\n",
    "\\text{变换后的 }X^T\n",
    "$$\n",
    "\n",
    "$$\n",
    "X^T =  \\begin{bmatrix}\n",
    "x_1 & x_2 & ... & x_n\\\\\n",
    "1 & 1 & ... & 1\\\\\n",
    "\\end{bmatrix}\n",
    "$$\n",
    "\n",
    "$$ \n",
    "\\text{已知}\n",
    "Y =  \\begin{bmatrix}\n",
    "y_1 \\\\\n",
    "y_2 \\\\\n",
    "... \\\\\n",
    "y_n\n",
    "\\end{bmatrix}\n",
    ",\n",
    "X =  \\begin{bmatrix}\n",
    "x_1 & 1 \\\\\n",
    "x_2 & 1\\\\\n",
    "... & ...\\\\\n",
    "x_n & 1 \\\\\n",
    "\\end{bmatrix},\n",
    "h =  \\begin{bmatrix}\n",
    "m \\\\\n",
    "b \\\\\n",
    "\\end{bmatrix}\n",
    "$$\n",
    "\n",
    "$$\n",
    "\\text{推导出 }\n",
    "$$\n",
    "\n",
    "$$\n",
    "2X^TXh - 2X^TY = -2X^T(Y-Xh)\n",
    "$$\n",
    "\n",
    "$$\n",
    "Y-Xh = \\begin{bmatrix}\n",
    "y_1 - mx_1 - b \\\\\n",
    "y_2 - mx_2 - b \\\\\n",
    "... \\\\\n",
    "y_n - mx_n - b \\\\\n",
    "\\end{bmatrix}\n",
    "$$\n",
    "\n",
    "$$\n",
    "\\text{所以 }\n",
    "$$\n",
    "\n",
    "$$\n",
    "2X^TXh - 2X^TY = -2X^T\\begin{bmatrix}\n",
    "y_1 - mx_1 - b \\\\\n",
    "y_2 - mx_2 - b \\\\\n",
    "... \\\\\n",
    "y_n - mx_n - b \\\\\n",
    "\\end{bmatrix} = \\begin{bmatrix}\n",
    "\\sum_{i=1}^{n}{-2x_i(y_i - mx_i - b)} \\\\\n",
    "\\sum_{i=1}^{n}{-2(y_i - mx_i - b)}\n",
    "\\end{bmatrix}\n",
    "$$\n",
    "\n",
    "$$\n",
    "\\text{然后对定义的损失函数(E)求m、b的偏导 }\n",
    "$$\n",
    "\n",
    "\n",
    "$$\n",
    "\\frac{\\partial E}{\\partial m} = \\sum_{i=1}^{n}{2(y_i - mx_i - b)\\frac{\\partial {(y_i - mx_i - b)}}{\\partial m}}\n",
    "$$\n",
    "\n",
    "$$\n",
    "= \\sum_{i=1}^{n}{2(y_i - mx_i - b)(-x_i)}\n",
    "$$\n",
    "\n",
    "$$\n",
    "= \\sum_{i=1}^{n}{-2x_i(y_i - mx_i - b)}\n",
    "$$\n",
    "\n",
    "$$\n",
    "\\frac{\\partial E}{\\partial b} = \\sum_{i=1}^{n}{2(y_i - mx_i - b) \\frac{\\partial {(y_i - mx_i - b)}}{\\partial b}}\n",
    "$$\n",
    "\n",
    "$$\n",
    "= \\sum_{i=1}^{n}{2(y_i - mx_i - b)(-1)}\n",
    "$$\n",
    "\n",
    "$$\n",
    "= \\sum_{i=1}^{n}{-2(y_i - mx_i - b)}\n",
    "$$\n",
    "\n",
    "$$\n",
    "\\text{综上所述 }\n",
    "$$\n",
    "\n",
    "$$\n",
    "\\frac{\\partial E}{\\partial m} = \\sum_{i=1}^{n}{-2x_i(y_i - mx_i - b)}\n",
    "$$\n",
    "\n",
    "$$\n",
    "\\frac{\\partial E}{\\partial b} = \\sum_{i=1}^{n}{-2(y_i - mx_i - b)}\n",
    "$$\n",
    "\n",
    "$$\n",
    "\\begin{bmatrix}\n",
    "\\frac{\\partial E}{\\partial m} \\\\\n",
    "\\frac{\\partial E}{\\partial b} \n",
    "\\end{bmatrix} = 2X^TXh - 2X^TY\n",
    "$$"
   ]
  },
  {
   "cell_type": "markdown",
   "metadata": {},
   "source": [
    ""
   ]
  }
 ],
 "metadata": {
  "kernelspec": {
   "display_name": "Python 2",
   "language": "python",
   "name": "python2"
  },
  "language_info": {
   "codemirror_mode": {
    "name": "ipython",
    "version": 2.0
   },
   "file_extension": ".py",
   "mimetype": "text/x-python",
   "name": "python",
   "nbconvert_exporter": "python",
   "pygments_lexer": "ipython2",
   "version": "2.7.6"
  }
 },
 "nbformat": 4,
 "nbformat_minor": 0
}