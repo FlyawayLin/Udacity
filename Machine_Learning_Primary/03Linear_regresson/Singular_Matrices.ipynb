{
 "cells": [
  {
   "cell_type": "markdown",
   "metadata": {
    "collapsed": true
   },
   "source": [
    "##证明下面的命题\n",
    "##如果方阵 A 可以被分为4个部分:\n",
    "##A=[IZXY],其中 I 为单位矩阵，Z 为全0矩阵，Y 的第一列全0A=[IXZY],\n",
    "##其中 I 为单位矩阵，Z 为全0矩阵，Y 的第一列全0 ，\n",
    "##那么A为奇异矩阵。\n",
    "##提示：从多种角度都可以完成证明\n",
    "##考虑矩阵 Y 和 矩阵 A 的秩\n",
    "##考虑矩阵 Y 和 矩阵 A 的行列式\n",
    "##考虑矩阵 A 的某一列是其他列的线性组合\n",
    "##TODO 请使用 latex （请参照题目的 latex 写法学习）"
   ]
  },
  {
   "cell_type": "markdown",
   "metadata": {},
   "source": [
    "##根据公式\n",
    "##方阵的行列式为零的话，此方阵为奇异方阵"
   ]
  },
  {
   "cell_type": "code",
   "execution_count": 20,
   "metadata": {},
   "outputs": [
    {
     "data": {
      "text/latex": [
       "$ det(A) = det(I) \\cdot det(Y)-det(X) \\cdot det(Z)\\\\$\n\n$ det(Y) = 0\\\\$\n\n$ det(Z) = 0\\\\$\n\n$ A = \\begin{bmatrix}\nI    & X \\\\\nZ    & Y \\\\\n\\end{bmatrix} $is Singular_Matrices"
      ],
      "text/plain": [
       "<IPython.core.display.Latex object>"
      ]
     },
     "metadata": {},
     "output_type": "display_data"
    }
   ],
   "source": [
    "%%latex\n",
    "$ det(A) = det(I) \\cdot det(Y)-det(X) \\cdot det(Z)\\\\$\n",
    "\n",
    "$ det(Y) = 0\\\\$\n",
    "\n",
    "$ det(Z) = 0\\\\$\n",
    "\n",
    "$ A = \\begin{bmatrix}\n",
    "I    & X \\\\\n",
    "Z    & Y \\\\\n",
    "\\end{bmatrix} $is Singular_Matrices"
   ]
  },
  {
   "cell_type": "code",
   "execution_count": 21,
   "metadata": {},
   "outputs": [
    {
     "data": {
      "text/latex": [
       "$$1:det(A) = \\ det(I)⋅det(Y)−det(X)⋅det(Z)$$"
      ],
      "text/plain": [
       "<IPython.core.display.Math object>"
      ]
     },
     "metadata": {},
     "output_type": "display_data"
    },
    {
     "data": {
      "text/latex": [
       "$$2:det(Y) = \\ 0$$"
      ],
      "text/plain": [
       "<IPython.core.display.Math object>"
      ]
     },
     "metadata": {},
     "output_type": "display_data"
    },
    {
     "data": {
      "text/latex": [
       "$$3:det(Z) = \\ 0$$"
      ],
      "text/plain": [
       "<IPython.core.display.Math object>"
      ]
     },
     "metadata": {},
     "output_type": "display_data"
    },
    {
     "data": {
      "text/latex": [
       "$$4: 故[A] is Singular Matrices $$"
      ],
      "text/plain": [
       "<IPython.core.display.Math object>"
      ]
     },
     "metadata": {},
     "output_type": "display_data"
    }
   ],
   "source": [
    "from IPython.display import display, Math, Latex\n",
    "display(Math(r'1:det(A) = \\ det(I)⋅det(Y)−det(X)⋅det(Z)'))\n",
    "display(Math(r'2:det(Y) = \\ 0'))\n",
    "display(Math(r'3:det(Z) = \\ 0'))\n",
    "display(Math(r'4: 故[A] is Singular Matrices '))"
   ]
  }
 ],
 "metadata": {
  "kernelspec": {
   "display_name": "Python 2",
   "language": "python",
   "name": "python2"
  },
  "language_info": {
   "codemirror_mode": {
    "name": "ipython",
    "version": 2.0
   },
   "file_extension": ".py",
   "mimetype": "text/x-python",
   "name": "python",
   "nbconvert_exporter": "python",
   "pygments_lexer": "ipython2",
   "version": "2.7.6"
  }
 },
 "nbformat": 4,
 "nbformat_minor": 0
}